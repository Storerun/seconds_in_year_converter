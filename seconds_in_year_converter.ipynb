{
 "cells": [
  {
   "cell_type": "markdown",
   "id": "46a5ff78",
   "metadata": {},
   "source": [
    "# Seconds in a year App\n",
    "This app calculates the number of seconds in a given year."
   ]
  },
  {
   "cell_type": "code",
   "execution_count": 2,
   "id": "7bbeb1ff",
   "metadata": {},
   "outputs": [
    {
     "name": "stdout",
     "output_type": "stream",
     "text": [
      "Enter year: 5\n",
      "The number of seconds is 157680000.\n"
     ]
    }
   ],
   "source": [
    "year= int(input('Enter year: '))\n",
    "seconds= year * 31536000\n",
    "print('The number of seconds is {}.'.format(seconds))"
   ]
  },
  {
   "cell_type": "code",
   "execution_count": null,
   "id": "16fd2817",
   "metadata": {},
   "outputs": [],
   "source": []
  }
 ],
 "metadata": {
  "kernelspec": {
   "display_name": "Python 3",
   "language": "python",
   "name": "python3"
  },
  "language_info": {
   "codemirror_mode": {
    "name": "ipython",
    "version": 3
   },
   "file_extension": ".py",
   "mimetype": "text/x-python",
   "name": "python",
   "nbconvert_exporter": "python",
   "pygments_lexer": "ipython3",
   "version": "3.8.8"
  }
 },
 "nbformat": 4,
 "nbformat_minor": 5
}
